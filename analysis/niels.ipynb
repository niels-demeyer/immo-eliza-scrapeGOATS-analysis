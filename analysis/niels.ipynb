{
 "cells": [
  {
   "cell_type": "code",
   "execution_count": 10,
   "metadata": {},
   "outputs": [],
   "source": [
    "import pandas as pd\n",
    "import plotly as py\n"
   ]
  },
  {
   "cell_type": "code",
   "execution_count": 11,
   "metadata": {},
   "outputs": [],
   "source": [
    "df = pd.read_csv('../data/raw/houses_moreinfo.csv')\n"
   ]
  },
  {
   "cell_type": "code",
   "execution_count": 12,
   "metadata": {},
   "outputs": [
    {
     "data": {
      "text/html": [
       "<div>\n",
       "<style scoped>\n",
       "    .dataframe tbody tr th:only-of-type {\n",
       "        vertical-align: middle;\n",
       "    }\n",
       "\n",
       "    .dataframe tbody tr th {\n",
       "        vertical-align: top;\n",
       "    }\n",
       "\n",
       "    .dataframe thead th {\n",
       "        text-align: right;\n",
       "    }\n",
       "</style>\n",
       "<table border=\"1\" class=\"dataframe\">\n",
       "  <thead>\n",
       "    <tr style=\"text-align: right;\">\n",
       "      <th></th>\n",
       "      <th>id</th>\n",
       "      <th>city</th>\n",
       "      <th>postal_code</th>\n",
       "      <th>district</th>\n",
       "      <th>province</th>\n",
       "      <th>price</th>\n",
       "      <th>type_sale</th>\n",
       "      <th>subtype</th>\n",
       "      <th>sale_type</th>\n",
       "      <th>state_construction</th>\n",
       "      <th>...</th>\n",
       "      <th>swimmingpool</th>\n",
       "      <th>has_balcony</th>\n",
       "      <th>has_terrace</th>\n",
       "      <th>has_attic</th>\n",
       "      <th>has_basement</th>\n",
       "      <th>construction_year</th>\n",
       "      <th>epc</th>\n",
       "      <th>heating</th>\n",
       "      <th>life_annuity</th>\n",
       "      <th>area_total</th>\n",
       "    </tr>\n",
       "  </thead>\n",
       "  <tbody>\n",
       "    <tr>\n",
       "      <th>0</th>\n",
       "      <td>1882546</td>\n",
       "      <td>Wenduine                                      ...</td>\n",
       "      <td>8420</td>\n",
       "      <td>Oostend</td>\n",
       "      <td>West Flanders</td>\n",
       "      <td>163000</td>\n",
       "      <td>HOUSE</td>\n",
       "      <td>CHALET</td>\n",
       "      <td>FOR_SALE</td>\n",
       "      <td>AS_NEW</td>\n",
       "      <td>...</td>\n",
       "      <td>0</td>\n",
       "      <td></td>\n",
       "      <td></td>\n",
       "      <td></td>\n",
       "      <td></td>\n",
       "      <td>2023</td>\n",
       "      <td></td>\n",
       "      <td>GAS</td>\n",
       "      <td>0</td>\n",
       "      <td>155</td>\n",
       "    </tr>\n",
       "    <tr>\n",
       "      <th>1</th>\n",
       "      <td>2784938</td>\n",
       "      <td>Heist-aan-Zee                                 ...</td>\n",
       "      <td>8301</td>\n",
       "      <td>Brugge</td>\n",
       "      <td>West Flanders</td>\n",
       "      <td>108000</td>\n",
       "      <td>HOUSE</td>\n",
       "      <td>BUNGALOW</td>\n",
       "      <td>FOR_SALE</td>\n",
       "      <td>AS_NEW</td>\n",
       "      <td>...</td>\n",
       "      <td>0</td>\n",
       "      <td></td>\n",
       "      <td></td>\n",
       "      <td></td>\n",
       "      <td></td>\n",
       "      <td>2023</td>\n",
       "      <td></td>\n",
       "      <td>GAS</td>\n",
       "      <td>0</td>\n",
       "      <td>170</td>\n",
       "    </tr>\n",
       "    <tr>\n",
       "      <th>2</th>\n",
       "      <td>4679861</td>\n",
       "      <td>Oostende                                      ...</td>\n",
       "      <td>8400</td>\n",
       "      <td>Oostend</td>\n",
       "      <td>West Flanders</td>\n",
       "      <td>330000</td>\n",
       "      <td>HOUSE</td>\n",
       "      <td>HOUSE</td>\n",
       "      <td>FOR_SALE</td>\n",
       "      <td>GOOD</td>\n",
       "      <td>...</td>\n",
       "      <td>0</td>\n",
       "      <td></td>\n",
       "      <td>1</td>\n",
       "      <td></td>\n",
       "      <td></td>\n",
       "      <td></td>\n",
       "      <td>B</td>\n",
       "      <td></td>\n",
       "      <td>0</td>\n",
       "      <td>65</td>\n",
       "    </tr>\n",
       "    <tr>\n",
       "      <th>3</th>\n",
       "      <td>5650273</td>\n",
       "      <td>Dilsen-Stokkem                                ...</td>\n",
       "      <td>3650</td>\n",
       "      <td>Maaseik</td>\n",
       "      <td>Limburg</td>\n",
       "      <td>535000</td>\n",
       "      <td>HOUSE</td>\n",
       "      <td>APARTMENT_BLOCK</td>\n",
       "      <td>FOR_SALE</td>\n",
       "      <td></td>\n",
       "      <td>...</td>\n",
       "      <td>0</td>\n",
       "      <td></td>\n",
       "      <td></td>\n",
       "      <td></td>\n",
       "      <td></td>\n",
       "      <td>1988</td>\n",
       "      <td>B</td>\n",
       "      <td>GAS</td>\n",
       "      <td>0</td>\n",
       "      <td>0</td>\n",
       "    </tr>\n",
       "    <tr>\n",
       "      <th>4</th>\n",
       "      <td>6349237</td>\n",
       "      <td>Corswarem                                     ...</td>\n",
       "      <td>4257</td>\n",
       "      <td>Waremme</td>\n",
       "      <td>Liège</td>\n",
       "      <td></td>\n",
       "      <td>HOUSE_GROUP</td>\n",
       "      <td>HOUSE_GROUP</td>\n",
       "      <td>FOR_SALE</td>\n",
       "      <td></td>\n",
       "      <td>...</td>\n",
       "      <td>0</td>\n",
       "      <td></td>\n",
       "      <td></td>\n",
       "      <td></td>\n",
       "      <td></td>\n",
       "      <td></td>\n",
       "      <td></td>\n",
       "      <td></td>\n",
       "      <td>0</td>\n",
       "      <td></td>\n",
       "    </tr>\n",
       "  </tbody>\n",
       "</table>\n",
       "<p>5 rows × 33 columns</p>\n",
       "</div>"
      ],
      "text/plain": [
       "   id        city                                                 \\\n",
       "0    1882546  Wenduine                                      ...    \n",
       "1    2784938  Heist-aan-Zee                                 ...    \n",
       "2    4679861  Oostende                                      ...    \n",
       "3    5650273  Dilsen-Stokkem                                ...    \n",
       "4    6349237  Corswarem                                     ...    \n",
       "\n",
       "   postal_code   district            province            price      \\\n",
       "0          8420  Oostend               West Flanders       163000    \n",
       "1          8301  Brugge                West Flanders       108000    \n",
       "2          8400  Oostend               West Flanders       330000    \n",
       "3          3650  Maaseik             Limburg               535000    \n",
       "4          4257  Waremme               Liège                         \n",
       "\n",
       "   type_sale         subtype                sale_type   state_construction   \\\n",
       "0  HOUSE             CHALET                 FOR_SALE    AS_NEW                \n",
       "1  HOUSE             BUNGALOW               FOR_SALE    AS_NEW                \n",
       "2  HOUSE             HOUSE                  FOR_SALE    GOOD                  \n",
       "3  HOUSE             APARTMENT_BLOCK        FOR_SALE                          \n",
       "4  HOUSE_GROUP       HOUSE_GROUP            FOR_SALE                          \n",
       "\n",
       "   ... swimmingpool   has_balcony   has_terrace   has_attic   has_basement   \\\n",
       "0  ...             0                                                          \n",
       "1  ...             0                                                          \n",
       "2  ...             0                          1                               \n",
       "3  ...             0                                                          \n",
       "4  ...             0                                                          \n",
       "\n",
       "   construction_year   epc      heating   life_annuity   area_total  \n",
       "0               2023            GAS                   0         155  \n",
       "1               2023            GAS                   0         170  \n",
       "2                      B                              0          65  \n",
       "3               1988   B        GAS                   0           0  \n",
       "4                                                     0              \n",
       "\n",
       "[5 rows x 33 columns]"
      ]
     },
     "execution_count": 12,
     "metadata": {},
     "output_type": "execute_result"
    }
   ],
   "source": [
    "df.head()"
   ]
  },
  {
   "cell_type": "code",
   "execution_count": 13,
   "metadata": {},
   "outputs": [
    {
     "data": {
      "text/plain": [
       "Index(['id       ', 'city                                               ',\n",
       "       'postal_code ', 'district          ', 'province          ', 'price    ',\n",
       "       'type_sale       ', 'subtype              ', 'sale_type ',\n",
       "       'state_construction ', 'living_area ', 'terrace_area ', 'garden_area ',\n",
       "       'rooms ', 'bedrooms ', 'bathrooms ', 'livingroom_surface ',\n",
       "       'kitchen_surface ', 'facades ', 'has_garden ', 'kitchen ', 'furnished ',\n",
       "       'fireplace ', 'swimmingpool ', 'has_balcony ', 'has_terrace ',\n",
       "       'has_attic ', 'has_basement ', 'construction_year ', 'epc    ',\n",
       "       'heating  ', 'life_annuity ', 'area_total'],\n",
       "      dtype='object')"
      ]
     },
     "execution_count": 13,
     "metadata": {},
     "output_type": "execute_result"
    }
   ],
   "source": [
    "df.columns"
   ]
  },
  {
   "cell_type": "code",
   "execution_count": 15,
   "metadata": {},
   "outputs": [
    {
     "data": {
      "text/plain": [
       "Index(['id', 'city', 'postal_code', 'district', 'province', 'price',\n",
       "       'type_sale', 'subtype', 'sale_type', 'state_construction',\n",
       "       'living_area', 'terrace_area', 'garden_area', 'rooms', 'bedrooms',\n",
       "       'bathrooms', 'livingroom_surface', 'kitchen_surface', 'facades',\n",
       "       'has_garden', 'kitchen', 'furnished', 'fireplace', 'swimmingpool',\n",
       "       'has_balcony', 'has_terrace', 'has_attic', 'has_basement',\n",
       "       'construction_year', 'epc', 'heating', 'life_annuity', 'area_total'],\n",
       "      dtype='object')"
      ]
     },
     "execution_count": 15,
     "metadata": {},
     "output_type": "execute_result"
    }
   ],
   "source": [
    "df.columns = df.columns.str.strip()\n",
    "df.columns"
   ]
  },
  {
   "cell_type": "code",
   "execution_count": 19,
   "metadata": {},
   "outputs": [
    {
     "data": {
      "text/plain": [
       "1281"
      ]
     },
     "execution_count": 19,
     "metadata": {},
     "output_type": "execute_result"
    }
   ],
   "source": [
    "# get all the rows where the swimmingpool is not 0\n",
    "has_swimmingpool = df[df['swimmingpool'] != 0]\n",
    "count_has_swimmingpool = has_swimmingpool['swimmingpool'].count()\n",
    "count_has_swimmingpool \n"
   ]
  },
  {
   "cell_type": "code",
   "execution_count": null,
   "metadata": {},
   "outputs": [],
   "source": []
  }
 ],
 "metadata": {
  "kernelspec": {
   "display_name": "Python 3",
   "language": "python",
   "name": "python3"
  },
  "language_info": {
   "codemirror_mode": {
    "name": "ipython",
    "version": 3
   },
   "file_extension": ".py",
   "mimetype": "text/x-python",
   "name": "python",
   "nbconvert_exporter": "python",
   "pygments_lexer": "ipython3",
   "version": "3.12.1"
  }
 },
 "nbformat": 4,
 "nbformat_minor": 2
}
