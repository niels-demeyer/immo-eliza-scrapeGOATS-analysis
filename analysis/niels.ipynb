{
 "cells": [
  {
   "cell_type": "code",
   "execution_count": 1,
   "metadata": {},
   "outputs": [],
   "source": [
    "import pandas as pd\n",
    "import plotly.express as px\n"
   ]
  },
  {
   "cell_type": "code",
   "execution_count": 2,
   "metadata": {},
   "outputs": [],
   "source": [
    "df = pd.read_csv('../data/raw/houses_moreinfo.csv')\n"
   ]
  },
  {
   "cell_type": "code",
   "execution_count": 3,
   "metadata": {},
   "outputs": [
    {
     "data": {
      "text/html": [
       "<div>\n",
       "<style scoped>\n",
       "    .dataframe tbody tr th:only-of-type {\n",
       "        vertical-align: middle;\n",
       "    }\n",
       "\n",
       "    .dataframe tbody tr th {\n",
       "        vertical-align: top;\n",
       "    }\n",
       "\n",
       "    .dataframe thead th {\n",
       "        text-align: right;\n",
       "    }\n",
       "</style>\n",
       "<table border=\"1\" class=\"dataframe\">\n",
       "  <thead>\n",
       "    <tr style=\"text-align: right;\">\n",
       "      <th></th>\n",
       "      <th>id</th>\n",
       "      <th>city</th>\n",
       "      <th>postal_code</th>\n",
       "      <th>district</th>\n",
       "      <th>province</th>\n",
       "      <th>price</th>\n",
       "      <th>type_sale</th>\n",
       "      <th>subtype</th>\n",
       "      <th>sale_type</th>\n",
       "      <th>state_construction</th>\n",
       "      <th>...</th>\n",
       "      <th>swimmingpool</th>\n",
       "      <th>has_balcony</th>\n",
       "      <th>has_terrace</th>\n",
       "      <th>has_attic</th>\n",
       "      <th>has_basement</th>\n",
       "      <th>construction_year</th>\n",
       "      <th>epc</th>\n",
       "      <th>heating</th>\n",
       "      <th>life_annuity</th>\n",
       "      <th>area_total</th>\n",
       "    </tr>\n",
       "  </thead>\n",
       "  <tbody>\n",
       "    <tr>\n",
       "      <th>0</th>\n",
       "      <td>1882546</td>\n",
       "      <td>Wenduine</td>\n",
       "      <td>8420</td>\n",
       "      <td>Oostend</td>\n",
       "      <td>West Flanders</td>\n",
       "      <td>163000.0</td>\n",
       "      <td>HOUSE</td>\n",
       "      <td>CHALET</td>\n",
       "      <td>FOR_SALE</td>\n",
       "      <td>AS_NEW</td>\n",
       "      <td>...</td>\n",
       "      <td>0</td>\n",
       "      <td>NaN</td>\n",
       "      <td>NaN</td>\n",
       "      <td>NaN</td>\n",
       "      <td>NaN</td>\n",
       "      <td>2023.0</td>\n",
       "      <td>NaN</td>\n",
       "      <td>GAS</td>\n",
       "      <td>0</td>\n",
       "      <td>155.0</td>\n",
       "    </tr>\n",
       "    <tr>\n",
       "      <th>1</th>\n",
       "      <td>2784938</td>\n",
       "      <td>Heist-aan-Zee</td>\n",
       "      <td>8301</td>\n",
       "      <td>Brugge</td>\n",
       "      <td>West Flanders</td>\n",
       "      <td>108000.0</td>\n",
       "      <td>HOUSE</td>\n",
       "      <td>BUNGALOW</td>\n",
       "      <td>FOR_SALE</td>\n",
       "      <td>AS_NEW</td>\n",
       "      <td>...</td>\n",
       "      <td>0</td>\n",
       "      <td>NaN</td>\n",
       "      <td>NaN</td>\n",
       "      <td>NaN</td>\n",
       "      <td>NaN</td>\n",
       "      <td>2023.0</td>\n",
       "      <td>NaN</td>\n",
       "      <td>GAS</td>\n",
       "      <td>0</td>\n",
       "      <td>170.0</td>\n",
       "    </tr>\n",
       "    <tr>\n",
       "      <th>2</th>\n",
       "      <td>4679861</td>\n",
       "      <td>Oostende</td>\n",
       "      <td>8400</td>\n",
       "      <td>Oostend</td>\n",
       "      <td>West Flanders</td>\n",
       "      <td>330000.0</td>\n",
       "      <td>HOUSE</td>\n",
       "      <td>HOUSE</td>\n",
       "      <td>FOR_SALE</td>\n",
       "      <td>GOOD</td>\n",
       "      <td>...</td>\n",
       "      <td>0</td>\n",
       "      <td>NaN</td>\n",
       "      <td>1.0</td>\n",
       "      <td>NaN</td>\n",
       "      <td>NaN</td>\n",
       "      <td>NaN</td>\n",
       "      <td>B</td>\n",
       "      <td>NaN</td>\n",
       "      <td>0</td>\n",
       "      <td>65.0</td>\n",
       "    </tr>\n",
       "    <tr>\n",
       "      <th>3</th>\n",
       "      <td>5650273</td>\n",
       "      <td>Dilsen-Stokkem</td>\n",
       "      <td>3650</td>\n",
       "      <td>Maaseik</td>\n",
       "      <td>Limburg</td>\n",
       "      <td>535000.0</td>\n",
       "      <td>HOUSE</td>\n",
       "      <td>APARTMENT_BLOCK</td>\n",
       "      <td>FOR_SALE</td>\n",
       "      <td>NaN</td>\n",
       "      <td>...</td>\n",
       "      <td>0</td>\n",
       "      <td>NaN</td>\n",
       "      <td>NaN</td>\n",
       "      <td>NaN</td>\n",
       "      <td>NaN</td>\n",
       "      <td>1988.0</td>\n",
       "      <td>B</td>\n",
       "      <td>GAS</td>\n",
       "      <td>0</td>\n",
       "      <td>0.0</td>\n",
       "    </tr>\n",
       "    <tr>\n",
       "      <th>4</th>\n",
       "      <td>6349237</td>\n",
       "      <td>Corswarem</td>\n",
       "      <td>4257</td>\n",
       "      <td>Waremme</td>\n",
       "      <td>Liège</td>\n",
       "      <td>NaN</td>\n",
       "      <td>HOUSE_GROUP</td>\n",
       "      <td>HOUSE_GROUP</td>\n",
       "      <td>FOR_SALE</td>\n",
       "      <td>NaN</td>\n",
       "      <td>...</td>\n",
       "      <td>0</td>\n",
       "      <td>NaN</td>\n",
       "      <td>NaN</td>\n",
       "      <td>NaN</td>\n",
       "      <td>NaN</td>\n",
       "      <td>NaN</td>\n",
       "      <td>NaN</td>\n",
       "      <td>NaN</td>\n",
       "      <td>0</td>\n",
       "      <td>NaN</td>\n",
       "    </tr>\n",
       "  </tbody>\n",
       "</table>\n",
       "<p>5 rows × 33 columns</p>\n",
       "</div>"
      ],
      "text/plain": [
       "        id            city  postal_code district       province     price  \\\n",
       "0  1882546        Wenduine         8420  Oostend  West Flanders  163000.0   \n",
       "1  2784938   Heist-aan-Zee         8301   Brugge  West Flanders  108000.0   \n",
       "2  4679861        Oostende         8400  Oostend  West Flanders  330000.0   \n",
       "3  5650273  Dilsen-Stokkem         3650  Maaseik        Limburg  535000.0   \n",
       "4  6349237       Corswarem         4257  Waremme          Liège       NaN   \n",
       "\n",
       "     type_sale          subtype sale_type state_construction  ...  \\\n",
       "0        HOUSE           CHALET  FOR_SALE             AS_NEW  ...   \n",
       "1        HOUSE         BUNGALOW  FOR_SALE             AS_NEW  ...   \n",
       "2        HOUSE            HOUSE  FOR_SALE               GOOD  ...   \n",
       "3        HOUSE  APARTMENT_BLOCK  FOR_SALE                NaN  ...   \n",
       "4  HOUSE_GROUP      HOUSE_GROUP  FOR_SALE                NaN  ...   \n",
       "\n",
       "   swimmingpool  has_balcony  has_terrace  has_attic  has_basement  \\\n",
       "0             0          NaN          NaN        NaN           NaN   \n",
       "1             0          NaN          NaN        NaN           NaN   \n",
       "2             0          NaN          1.0        NaN           NaN   \n",
       "3             0          NaN          NaN        NaN           NaN   \n",
       "4             0          NaN          NaN        NaN           NaN   \n",
       "\n",
       "   construction_year  epc  heating  life_annuity  area_total  \n",
       "0             2023.0  NaN      GAS             0       155.0  \n",
       "1             2023.0  NaN      GAS             0       170.0  \n",
       "2                NaN    B      NaN             0        65.0  \n",
       "3             1988.0    B      GAS             0         0.0  \n",
       "4                NaN  NaN      NaN             0         NaN  \n",
       "\n",
       "[5 rows x 33 columns]"
      ]
     },
     "execution_count": 3,
     "metadata": {},
     "output_type": "execute_result"
    }
   ],
   "source": [
    "df.head()"
   ]
  },
  {
   "cell_type": "code",
   "execution_count": 4,
   "metadata": {},
   "outputs": [
    {
     "data": {
      "text/plain": [
       "Index(['id', 'city', 'postal_code', 'district', 'province', 'price',\n",
       "       'type_sale', 'subtype', 'sale_type', 'state_construction',\n",
       "       'living_area', 'terrace_area', 'garden_area', 'rooms', 'bedrooms',\n",
       "       'bathrooms', 'livingroom_surface', 'kitchen_surface', 'facades',\n",
       "       'has_garden', 'kitchen', 'furnished', 'fireplace', 'swimmingpool',\n",
       "       'has_balcony', 'has_terrace', 'has_attic', 'has_basement',\n",
       "       'construction_year', 'epc', 'heating', 'life_annuity', 'area_total'],\n",
       "      dtype='object')"
      ]
     },
     "execution_count": 4,
     "metadata": {},
     "output_type": "execute_result"
    }
   ],
   "source": [
    "df.columns"
   ]
  },
  {
   "cell_type": "code",
   "execution_count": 5,
   "metadata": {},
   "outputs": [
    {
     "data": {
      "text/plain": [
       "Index(['id', 'city', 'postal_code', 'district', 'province', 'price',\n",
       "       'type_sale', 'subtype', 'sale_type', 'state_construction',\n",
       "       'living_area', 'terrace_area', 'garden_area', 'rooms', 'bedrooms',\n",
       "       'bathrooms', 'livingroom_surface', 'kitchen_surface', 'facades',\n",
       "       'has_garden', 'kitchen', 'furnished', 'fireplace', 'swimmingpool',\n",
       "       'has_balcony', 'has_terrace', 'has_attic', 'has_basement',\n",
       "       'construction_year', 'epc', 'heating', 'life_annuity', 'area_total'],\n",
       "      dtype='object')"
      ]
     },
     "execution_count": 5,
     "metadata": {},
     "output_type": "execute_result"
    }
   ],
   "source": [
    "df.columns = df.columns.str.strip()\n",
    "df.columns"
   ]
  },
  {
   "cell_type": "code",
   "execution_count": 6,
   "metadata": {},
   "outputs": [
    {
     "data": {
      "text/plain": [
       "1281"
      ]
     },
     "execution_count": 6,
     "metadata": {},
     "output_type": "execute_result"
    }
   ],
   "source": [
    "# get all the rows where the swimmingpool is not 0\n",
    "has_swimmingpool = df[df['swimmingpool'] != 0]\n",
    "count_has_swimmingpool = has_swimmingpool['swimmingpool'].count()\n",
    "count_has_swimmingpool \n"
   ]
  },
  {
   "cell_type": "code",
   "execution_count": 7,
   "metadata": {},
   "outputs": [
    {
     "data": {
      "text/html": [
       "<div>\n",
       "<style scoped>\n",
       "    .dataframe tbody tr th:only-of-type {\n",
       "        vertical-align: middle;\n",
       "    }\n",
       "\n",
       "    .dataframe tbody tr th {\n",
       "        vertical-align: top;\n",
       "    }\n",
       "\n",
       "    .dataframe thead th {\n",
       "        text-align: right;\n",
       "    }\n",
       "</style>\n",
       "<table border=\"1\" class=\"dataframe\">\n",
       "  <thead>\n",
       "    <tr style=\"text-align: right;\">\n",
       "      <th></th>\n",
       "      <th>id</th>\n",
       "      <th>city</th>\n",
       "      <th>postal_code</th>\n",
       "      <th>district</th>\n",
       "      <th>province</th>\n",
       "      <th>price</th>\n",
       "      <th>type_sale</th>\n",
       "      <th>subtype</th>\n",
       "      <th>sale_type</th>\n",
       "      <th>state_construction</th>\n",
       "      <th>...</th>\n",
       "      <th>swimmingpool</th>\n",
       "      <th>has_balcony</th>\n",
       "      <th>has_terrace</th>\n",
       "      <th>has_attic</th>\n",
       "      <th>has_basement</th>\n",
       "      <th>construction_year</th>\n",
       "      <th>epc</th>\n",
       "      <th>heating</th>\n",
       "      <th>life_annuity</th>\n",
       "      <th>area_total</th>\n",
       "    </tr>\n",
       "  </thead>\n",
       "  <tbody>\n",
       "  </tbody>\n",
       "</table>\n",
       "<p>0 rows × 33 columns</p>\n",
       "</div>"
      ],
      "text/plain": [
       "Empty DataFrame\n",
       "Columns: [id, city, postal_code, district, province, price, type_sale, subtype, sale_type, state_construction, living_area, terrace_area, garden_area, rooms, bedrooms, bathrooms, livingroom_surface, kitchen_surface, facades, has_garden, kitchen, furnished, fireplace, swimmingpool, has_balcony, has_terrace, has_attic, has_basement, construction_year, epc, heating, life_annuity, area_total]\n",
       "Index: []\n",
       "\n",
       "[0 rows x 33 columns]"
      ]
     },
     "execution_count": 7,
     "metadata": {},
     "output_type": "execute_result"
    }
   ],
   "source": [
    "# get all the rows where has_balcony is not 0\n",
    "has_balcony_non_zero = df[(df['has_balcony'].notnull()) & (df['has_balcony'] != 0)]\n",
    "has_balcony_non_zero_count = has_balcony_non_zero['has_balcony'].count()\n",
    "has_balcony_non_zero_count\n",
    "has_balcony_non_zero.head()"
   ]
  },
  {
   "cell_type": "code",
   "execution_count": 8,
   "metadata": {},
   "outputs": [
    {
     "data": {
      "text/html": [
       "<div>\n",
       "<style scoped>\n",
       "    .dataframe tbody tr th:only-of-type {\n",
       "        vertical-align: middle;\n",
       "    }\n",
       "\n",
       "    .dataframe tbody tr th {\n",
       "        vertical-align: top;\n",
       "    }\n",
       "\n",
       "    .dataframe thead th {\n",
       "        text-align: right;\n",
       "    }\n",
       "</style>\n",
       "<table border=\"1\" class=\"dataframe\">\n",
       "  <thead>\n",
       "    <tr style=\"text-align: right;\">\n",
       "      <th></th>\n",
       "      <th>id</th>\n",
       "      <th>city</th>\n",
       "      <th>postal_code</th>\n",
       "      <th>district</th>\n",
       "      <th>province</th>\n",
       "      <th>price</th>\n",
       "      <th>type_sale</th>\n",
       "      <th>subtype</th>\n",
       "      <th>sale_type</th>\n",
       "      <th>state_construction</th>\n",
       "      <th>...</th>\n",
       "      <th>swimmingpool</th>\n",
       "      <th>has_balcony</th>\n",
       "      <th>has_terrace</th>\n",
       "      <th>has_attic</th>\n",
       "      <th>has_basement</th>\n",
       "      <th>construction_year</th>\n",
       "      <th>epc</th>\n",
       "      <th>heating</th>\n",
       "      <th>life_annuity</th>\n",
       "      <th>area_total</th>\n",
       "    </tr>\n",
       "  </thead>\n",
       "  <tbody>\n",
       "  </tbody>\n",
       "</table>\n",
       "<p>0 rows × 33 columns</p>\n",
       "</div>"
      ],
      "text/plain": [
       "Empty DataFrame\n",
       "Columns: [id, city, postal_code, district, province, price, type_sale, subtype, sale_type, state_construction, living_area, terrace_area, garden_area, rooms, bedrooms, bathrooms, livingroom_surface, kitchen_surface, facades, has_garden, kitchen, furnished, fireplace, swimmingpool, has_balcony, has_terrace, has_attic, has_basement, construction_year, epc, heating, life_annuity, area_total]\n",
       "Index: []\n",
       "\n",
       "[0 rows x 33 columns]"
      ]
     },
     "execution_count": 8,
     "metadata": {},
     "output_type": "execute_result"
    }
   ],
   "source": [
    "has_balcony_non_zero_or_null = df[(df['has_balcony'].notnull()) & (df['has_balcony'] != 0)]\n",
    "\n",
    "has_balcony_non_zero_or_null"
   ]
  },
  {
   "cell_type": "code",
   "execution_count": 9,
   "metadata": {},
   "outputs": [
    {
     "data": {
      "text/html": [
       "<div>\n",
       "<style scoped>\n",
       "    .dataframe tbody tr th:only-of-type {\n",
       "        vertical-align: middle;\n",
       "    }\n",
       "\n",
       "    .dataframe tbody tr th {\n",
       "        vertical-align: top;\n",
       "    }\n",
       "\n",
       "    .dataframe thead th {\n",
       "        text-align: right;\n",
       "    }\n",
       "</style>\n",
       "<table border=\"1\" class=\"dataframe\">\n",
       "  <thead>\n",
       "    <tr style=\"text-align: right;\">\n",
       "      <th></th>\n",
       "      <th>id</th>\n",
       "      <th>city</th>\n",
       "      <th>postal_code</th>\n",
       "      <th>district</th>\n",
       "      <th>province</th>\n",
       "      <th>price</th>\n",
       "      <th>type_sale</th>\n",
       "      <th>subtype</th>\n",
       "      <th>sale_type</th>\n",
       "      <th>state_construction</th>\n",
       "      <th>...</th>\n",
       "      <th>swimmingpool</th>\n",
       "      <th>has_balcony</th>\n",
       "      <th>has_terrace</th>\n",
       "      <th>has_attic</th>\n",
       "      <th>has_basement</th>\n",
       "      <th>construction_year</th>\n",
       "      <th>epc</th>\n",
       "      <th>heating</th>\n",
       "      <th>life_annuity</th>\n",
       "      <th>area_total</th>\n",
       "    </tr>\n",
       "  </thead>\n",
       "  <tbody>\n",
       "  </tbody>\n",
       "</table>\n",
       "<p>0 rows × 33 columns</p>\n",
       "</div>"
      ],
      "text/plain": [
       "Empty DataFrame\n",
       "Columns: [id, city, postal_code, district, province, price, type_sale, subtype, sale_type, state_construction, living_area, terrace_area, garden_area, rooms, bedrooms, bathrooms, livingroom_surface, kitchen_surface, facades, has_garden, kitchen, furnished, fireplace, swimmingpool, has_balcony, has_terrace, has_attic, has_basement, construction_year, epc, heating, life_annuity, area_total]\n",
       "Index: []\n",
       "\n",
       "[0 rows x 33 columns]"
      ]
     },
     "execution_count": 9,
     "metadata": {},
     "output_type": "execute_result"
    }
   ],
   "source": [
    "has_balcony_one = df[df['has_balcony'] == 1]\n",
    "has_balcony_one"
   ]
  },
  {
   "cell_type": "code",
   "execution_count": 10,
   "metadata": {},
   "outputs": [
    {
     "data": {
      "text/html": [
       "<div>\n",
       "<style scoped>\n",
       "    .dataframe tbody tr th:only-of-type {\n",
       "        vertical-align: middle;\n",
       "    }\n",
       "\n",
       "    .dataframe tbody tr th {\n",
       "        vertical-align: top;\n",
       "    }\n",
       "\n",
       "    .dataframe thead th {\n",
       "        text-align: right;\n",
       "    }\n",
       "</style>\n",
       "<table border=\"1\" class=\"dataframe\">\n",
       "  <thead>\n",
       "    <tr style=\"text-align: right;\">\n",
       "      <th></th>\n",
       "      <th>id</th>\n",
       "      <th>city</th>\n",
       "      <th>postal_code</th>\n",
       "      <th>district</th>\n",
       "      <th>province</th>\n",
       "      <th>price</th>\n",
       "      <th>type_sale</th>\n",
       "      <th>subtype</th>\n",
       "      <th>sale_type</th>\n",
       "      <th>state_construction</th>\n",
       "      <th>...</th>\n",
       "      <th>swimmingpool</th>\n",
       "      <th>has_balcony</th>\n",
       "      <th>has_terrace</th>\n",
       "      <th>has_attic</th>\n",
       "      <th>has_basement</th>\n",
       "      <th>construction_year</th>\n",
       "      <th>epc</th>\n",
       "      <th>heating</th>\n",
       "      <th>life_annuity</th>\n",
       "      <th>area_total</th>\n",
       "    </tr>\n",
       "  </thead>\n",
       "  <tbody>\n",
       "    <tr>\n",
       "      <th>95</th>\n",
       "      <td>9017998</td>\n",
       "      <td>Sprimont</td>\n",
       "      <td>4140</td>\n",
       "      <td>Liège</td>\n",
       "      <td>Liège</td>\n",
       "      <td>50000.0</td>\n",
       "      <td>HOUSE</td>\n",
       "      <td>HOUSE</td>\n",
       "      <td>FOR_SALE</td>\n",
       "      <td>NaN</td>\n",
       "      <td>...</td>\n",
       "      <td>0</td>\n",
       "      <td>NaN</td>\n",
       "      <td>1.0</td>\n",
       "      <td>NaN</td>\n",
       "      <td>NaN</td>\n",
       "      <td>NaN</td>\n",
       "      <td>E</td>\n",
       "      <td>FUELOIL</td>\n",
       "      <td>1</td>\n",
       "      <td>893.0</td>\n",
       "    </tr>\n",
       "    <tr>\n",
       "      <th>189</th>\n",
       "      <td>9357280</td>\n",
       "      <td>Aywaille</td>\n",
       "      <td>4920</td>\n",
       "      <td>Liège</td>\n",
       "      <td>Liège</td>\n",
       "      <td>35000.0</td>\n",
       "      <td>HOUSE</td>\n",
       "      <td>BUNGALOW</td>\n",
       "      <td>FOR_SALE</td>\n",
       "      <td>GOOD</td>\n",
       "      <td>...</td>\n",
       "      <td>0</td>\n",
       "      <td>NaN</td>\n",
       "      <td>1.0</td>\n",
       "      <td>NaN</td>\n",
       "      <td>NaN</td>\n",
       "      <td>1970.0</td>\n",
       "      <td>D</td>\n",
       "      <td>PELLET</td>\n",
       "      <td>1</td>\n",
       "      <td>346.0</td>\n",
       "    </tr>\n",
       "    <tr>\n",
       "      <th>308</th>\n",
       "      <td>9597562</td>\n",
       "      <td>Mouscron</td>\n",
       "      <td>7700</td>\n",
       "      <td>Mouscron</td>\n",
       "      <td>Hainaut</td>\n",
       "      <td>75000.0</td>\n",
       "      <td>HOUSE</td>\n",
       "      <td>HOUSE</td>\n",
       "      <td>FOR_SALE</td>\n",
       "      <td>AS_NEW</td>\n",
       "      <td>...</td>\n",
       "      <td>0</td>\n",
       "      <td>NaN</td>\n",
       "      <td>1.0</td>\n",
       "      <td>NaN</td>\n",
       "      <td>NaN</td>\n",
       "      <td>2013.0</td>\n",
       "      <td>B</td>\n",
       "      <td>GAS</td>\n",
       "      <td>1</td>\n",
       "      <td>265.0</td>\n",
       "    </tr>\n",
       "    <tr>\n",
       "      <th>320</th>\n",
       "      <td>9620925</td>\n",
       "      <td>Cerfontaine</td>\n",
       "      <td>5630</td>\n",
       "      <td>Philippeville</td>\n",
       "      <td>Namur</td>\n",
       "      <td>80000.0</td>\n",
       "      <td>HOUSE</td>\n",
       "      <td>HOUSE</td>\n",
       "      <td>FOR_SALE</td>\n",
       "      <td>GOOD</td>\n",
       "      <td>...</td>\n",
       "      <td>0</td>\n",
       "      <td>NaN</td>\n",
       "      <td>NaN</td>\n",
       "      <td>1.0</td>\n",
       "      <td>1.0</td>\n",
       "      <td>NaN</td>\n",
       "      <td>F</td>\n",
       "      <td>NaN</td>\n",
       "      <td>1</td>\n",
       "      <td>170.0</td>\n",
       "    </tr>\n",
       "    <tr>\n",
       "      <th>341</th>\n",
       "      <td>9654794</td>\n",
       "      <td>Ciney</td>\n",
       "      <td>5590</td>\n",
       "      <td>Dinant</td>\n",
       "      <td>Namur</td>\n",
       "      <td>195000.0</td>\n",
       "      <td>HOUSE</td>\n",
       "      <td>HOUSE</td>\n",
       "      <td>FOR_SALE</td>\n",
       "      <td>NaN</td>\n",
       "      <td>...</td>\n",
       "      <td>0</td>\n",
       "      <td>NaN</td>\n",
       "      <td>NaN</td>\n",
       "      <td>NaN</td>\n",
       "      <td>NaN</td>\n",
       "      <td>NaN</td>\n",
       "      <td>NaN</td>\n",
       "      <td>NaN</td>\n",
       "      <td>1</td>\n",
       "      <td>0.0</td>\n",
       "    </tr>\n",
       "    <tr>\n",
       "      <th>...</th>\n",
       "      <td>...</td>\n",
       "      <td>...</td>\n",
       "      <td>...</td>\n",
       "      <td>...</td>\n",
       "      <td>...</td>\n",
       "      <td>...</td>\n",
       "      <td>...</td>\n",
       "      <td>...</td>\n",
       "      <td>...</td>\n",
       "      <td>...</td>\n",
       "      <td>...</td>\n",
       "      <td>...</td>\n",
       "      <td>...</td>\n",
       "      <td>...</td>\n",
       "      <td>...</td>\n",
       "      <td>...</td>\n",
       "      <td>...</td>\n",
       "      <td>...</td>\n",
       "      <td>...</td>\n",
       "      <td>...</td>\n",
       "      <td>...</td>\n",
       "    </tr>\n",
       "    <tr>\n",
       "      <th>41772</th>\n",
       "      <td>11145312</td>\n",
       "      <td>HERBESTHAL</td>\n",
       "      <td>4710</td>\n",
       "      <td>Verviers</td>\n",
       "      <td>Liège</td>\n",
       "      <td>100000.0</td>\n",
       "      <td>HOUSE</td>\n",
       "      <td>HOUSE</td>\n",
       "      <td>FOR_SALE</td>\n",
       "      <td>TO_BE_DONE_UP</td>\n",
       "      <td>...</td>\n",
       "      <td>0</td>\n",
       "      <td>NaN</td>\n",
       "      <td>1.0</td>\n",
       "      <td>NaN</td>\n",
       "      <td>1.0</td>\n",
       "      <td>1900.0</td>\n",
       "      <td>G</td>\n",
       "      <td>FUELOIL</td>\n",
       "      <td>1</td>\n",
       "      <td>435.0</td>\n",
       "    </tr>\n",
       "    <tr>\n",
       "      <th>42067</th>\n",
       "      <td>11146386</td>\n",
       "      <td>Liège</td>\n",
       "      <td>4000</td>\n",
       "      <td>Liège</td>\n",
       "      <td>Liège</td>\n",
       "      <td>30000.0</td>\n",
       "      <td>HOUSE</td>\n",
       "      <td>HOUSE</td>\n",
       "      <td>FOR_SALE</td>\n",
       "      <td>TO_BE_DONE_UP</td>\n",
       "      <td>...</td>\n",
       "      <td>0</td>\n",
       "      <td>NaN</td>\n",
       "      <td>1.0</td>\n",
       "      <td>NaN</td>\n",
       "      <td>1.0</td>\n",
       "      <td>NaN</td>\n",
       "      <td>D</td>\n",
       "      <td>GAS</td>\n",
       "      <td>1</td>\n",
       "      <td>155.0</td>\n",
       "    </tr>\n",
       "    <tr>\n",
       "      <th>42873</th>\n",
       "      <td>11150032</td>\n",
       "      <td>Wondelgem</td>\n",
       "      <td>9032</td>\n",
       "      <td>Gent</td>\n",
       "      <td>East Flanders</td>\n",
       "      <td>60000.0</td>\n",
       "      <td>HOUSE</td>\n",
       "      <td>HOUSE</td>\n",
       "      <td>FOR_SALE</td>\n",
       "      <td>NaN</td>\n",
       "      <td>...</td>\n",
       "      <td>0</td>\n",
       "      <td>NaN</td>\n",
       "      <td>1.0</td>\n",
       "      <td>NaN</td>\n",
       "      <td>NaN</td>\n",
       "      <td>1930.0</td>\n",
       "      <td>NaN</td>\n",
       "      <td>GAS</td>\n",
       "      <td>1</td>\n",
       "      <td>177.0</td>\n",
       "    </tr>\n",
       "    <tr>\n",
       "      <th>43086</th>\n",
       "      <td>11150956</td>\n",
       "      <td>Argenteau</td>\n",
       "      <td>4601</td>\n",
       "      <td>Liège</td>\n",
       "      <td>Liège</td>\n",
       "      <td>62500.0</td>\n",
       "      <td>HOUSE</td>\n",
       "      <td>HOUSE</td>\n",
       "      <td>FOR_SALE</td>\n",
       "      <td>GOOD</td>\n",
       "      <td>...</td>\n",
       "      <td>0</td>\n",
       "      <td>NaN</td>\n",
       "      <td>1.0</td>\n",
       "      <td>NaN</td>\n",
       "      <td>1.0</td>\n",
       "      <td>1966.0</td>\n",
       "      <td>G</td>\n",
       "      <td>FUELOIL</td>\n",
       "      <td>1</td>\n",
       "      <td>0.0</td>\n",
       "    </tr>\n",
       "    <tr>\n",
       "      <th>44515</th>\n",
       "      <td>11155701</td>\n",
       "      <td>Tournai</td>\n",
       "      <td>7540</td>\n",
       "      <td>Tournai</td>\n",
       "      <td>Hainaut</td>\n",
       "      <td>30000.0</td>\n",
       "      <td>HOUSE</td>\n",
       "      <td>HOUSE</td>\n",
       "      <td>FOR_SALE</td>\n",
       "      <td>GOOD</td>\n",
       "      <td>...</td>\n",
       "      <td>0</td>\n",
       "      <td>NaN</td>\n",
       "      <td>1.0</td>\n",
       "      <td>NaN</td>\n",
       "      <td>NaN</td>\n",
       "      <td>NaN</td>\n",
       "      <td>E</td>\n",
       "      <td>GAS</td>\n",
       "      <td>1</td>\n",
       "      <td>74.0</td>\n",
       "    </tr>\n",
       "  </tbody>\n",
       "</table>\n",
       "<p>156 rows × 33 columns</p>\n",
       "</div>"
      ],
      "text/plain": [
       "             id         city  postal_code       district       province  \\\n",
       "95      9017998     Sprimont         4140          Liège          Liège   \n",
       "189     9357280     Aywaille         4920          Liège          Liège   \n",
       "308     9597562     Mouscron         7700       Mouscron        Hainaut   \n",
       "320     9620925  Cerfontaine         5630  Philippeville          Namur   \n",
       "341     9654794        Ciney         5590         Dinant          Namur   \n",
       "...         ...          ...          ...            ...            ...   \n",
       "41772  11145312   HERBESTHAL         4710       Verviers          Liège   \n",
       "42067  11146386        Liège         4000          Liège          Liège   \n",
       "42873  11150032    Wondelgem         9032           Gent  East Flanders   \n",
       "43086  11150956    Argenteau         4601          Liège          Liège   \n",
       "44515  11155701      Tournai         7540        Tournai        Hainaut   \n",
       "\n",
       "          price type_sale   subtype sale_type state_construction  ...  \\\n",
       "95      50000.0     HOUSE     HOUSE  FOR_SALE                NaN  ...   \n",
       "189     35000.0     HOUSE  BUNGALOW  FOR_SALE               GOOD  ...   \n",
       "308     75000.0     HOUSE     HOUSE  FOR_SALE             AS_NEW  ...   \n",
       "320     80000.0     HOUSE     HOUSE  FOR_SALE               GOOD  ...   \n",
       "341    195000.0     HOUSE     HOUSE  FOR_SALE                NaN  ...   \n",
       "...         ...       ...       ...       ...                ...  ...   \n",
       "41772  100000.0     HOUSE     HOUSE  FOR_SALE      TO_BE_DONE_UP  ...   \n",
       "42067   30000.0     HOUSE     HOUSE  FOR_SALE      TO_BE_DONE_UP  ...   \n",
       "42873   60000.0     HOUSE     HOUSE  FOR_SALE                NaN  ...   \n",
       "43086   62500.0     HOUSE     HOUSE  FOR_SALE               GOOD  ...   \n",
       "44515   30000.0     HOUSE     HOUSE  FOR_SALE               GOOD  ...   \n",
       "\n",
       "       swimmingpool  has_balcony  has_terrace  has_attic  has_basement  \\\n",
       "95                0          NaN          1.0        NaN           NaN   \n",
       "189               0          NaN          1.0        NaN           NaN   \n",
       "308               0          NaN          1.0        NaN           NaN   \n",
       "320               0          NaN          NaN        1.0           1.0   \n",
       "341               0          NaN          NaN        NaN           NaN   \n",
       "...             ...          ...          ...        ...           ...   \n",
       "41772             0          NaN          1.0        NaN           1.0   \n",
       "42067             0          NaN          1.0        NaN           1.0   \n",
       "42873             0          NaN          1.0        NaN           NaN   \n",
       "43086             0          NaN          1.0        NaN           1.0   \n",
       "44515             0          NaN          1.0        NaN           NaN   \n",
       "\n",
       "       construction_year  epc  heating  life_annuity  area_total  \n",
       "95                   NaN    E  FUELOIL             1       893.0  \n",
       "189               1970.0    D   PELLET             1       346.0  \n",
       "308               2013.0    B      GAS             1       265.0  \n",
       "320                  NaN    F      NaN             1       170.0  \n",
       "341                  NaN  NaN      NaN             1         0.0  \n",
       "...                  ...  ...      ...           ...         ...  \n",
       "41772             1900.0    G  FUELOIL             1       435.0  \n",
       "42067                NaN    D      GAS             1       155.0  \n",
       "42873             1930.0  NaN      GAS             1       177.0  \n",
       "43086             1966.0    G  FUELOIL             1         0.0  \n",
       "44515                NaN    E      GAS             1        74.0  \n",
       "\n",
       "[156 rows x 33 columns]"
      ]
     },
     "execution_count": 10,
     "metadata": {},
     "output_type": "execute_result"
    }
   ],
   "source": [
    "life_annuity_count = df[df['life_annuity'] == 1]\n",
    "life_annuity_count"
   ]
  },
  {
   "cell_type": "code",
   "execution_count": 12,
   "metadata": {},
   "outputs": [
    {
     "data": {
      "application/vnd.plotly.v1+json": {
       "config": {
        "plotlyServerURL": "https://plot.ly"
       },
       "data": [
        {
         "alignmentgroup": "True",
         "hovertemplate": "subtype=%{x}<br>Count=%{y}<extra></extra>",
         "legendgroup": "",
         "marker": {
          "color": "#636efa",
          "pattern": {
           "shape": ""
          }
         },
         "name": "",
         "offsetgroup": "",
         "orientation": "v",
         "showlegend": false,
         "textposition": "auto",
         "type": "bar",
         "x": [
          "HOUSE",
          "VILLA",
          "APARTMENT_BLOCK",
          "MIXED_USE_BUILDING",
          "HOUSE_GROUP",
          "EXCEPTIONAL_PROPERTY",
          "TOWN_HOUSE",
          "MANSION",
          "BUNGALOW",
          "FARMHOUSE",
          "COUNTRY_COTTAGE",
          "MANOR_HOUSE",
          "CHALET",
          "OTHER_PROPERTY",
          "CASTLE",
          "APARTMENT_GROUP"
         ],
         "xaxis": "x",
         "y": [
          32588,
          3890,
          2308,
          1849,
          1352,
          682,
          506,
          502,
          367,
          274,
          272,
          178,
          120,
          113,
          60,
          3
         ],
         "yaxis": "y"
        }
       ],
       "layout": {
        "barmode": "relative",
        "legend": {
         "tracegroupgap": 0
        },
        "margin": {
         "t": 60
        },
        "template": {
         "data": {
          "bar": [
           {
            "error_x": {
             "color": "#2a3f5f"
            },
            "error_y": {
             "color": "#2a3f5f"
            },
            "marker": {
             "line": {
              "color": "#E5ECF6",
              "width": 0.5
             },
             "pattern": {
              "fillmode": "overlay",
              "size": 10,
              "solidity": 0.2
             }
            },
            "type": "bar"
           }
          ],
          "barpolar": [
           {
            "marker": {
             "line": {
              "color": "#E5ECF6",
              "width": 0.5
             },
             "pattern": {
              "fillmode": "overlay",
              "size": 10,
              "solidity": 0.2
             }
            },
            "type": "barpolar"
           }
          ],
          "carpet": [
           {
            "aaxis": {
             "endlinecolor": "#2a3f5f",
             "gridcolor": "white",
             "linecolor": "white",
             "minorgridcolor": "white",
             "startlinecolor": "#2a3f5f"
            },
            "baxis": {
             "endlinecolor": "#2a3f5f",
             "gridcolor": "white",
             "linecolor": "white",
             "minorgridcolor": "white",
             "startlinecolor": "#2a3f5f"
            },
            "type": "carpet"
           }
          ],
          "choropleth": [
           {
            "colorbar": {
             "outlinewidth": 0,
             "ticks": ""
            },
            "type": "choropleth"
           }
          ],
          "contour": [
           {
            "colorbar": {
             "outlinewidth": 0,
             "ticks": ""
            },
            "colorscale": [
             [
              0,
              "#0d0887"
             ],
             [
              0.1111111111111111,
              "#46039f"
             ],
             [
              0.2222222222222222,
              "#7201a8"
             ],
             [
              0.3333333333333333,
              "#9c179e"
             ],
             [
              0.4444444444444444,
              "#bd3786"
             ],
             [
              0.5555555555555556,
              "#d8576b"
             ],
             [
              0.6666666666666666,
              "#ed7953"
             ],
             [
              0.7777777777777778,
              "#fb9f3a"
             ],
             [
              0.8888888888888888,
              "#fdca26"
             ],
             [
              1,
              "#f0f921"
             ]
            ],
            "type": "contour"
           }
          ],
          "contourcarpet": [
           {
            "colorbar": {
             "outlinewidth": 0,
             "ticks": ""
            },
            "type": "contourcarpet"
           }
          ],
          "heatmap": [
           {
            "colorbar": {
             "outlinewidth": 0,
             "ticks": ""
            },
            "colorscale": [
             [
              0,
              "#0d0887"
             ],
             [
              0.1111111111111111,
              "#46039f"
             ],
             [
              0.2222222222222222,
              "#7201a8"
             ],
             [
              0.3333333333333333,
              "#9c179e"
             ],
             [
              0.4444444444444444,
              "#bd3786"
             ],
             [
              0.5555555555555556,
              "#d8576b"
             ],
             [
              0.6666666666666666,
              "#ed7953"
             ],
             [
              0.7777777777777778,
              "#fb9f3a"
             ],
             [
              0.8888888888888888,
              "#fdca26"
             ],
             [
              1,
              "#f0f921"
             ]
            ],
            "type": "heatmap"
           }
          ],
          "heatmapgl": [
           {
            "colorbar": {
             "outlinewidth": 0,
             "ticks": ""
            },
            "colorscale": [
             [
              0,
              "#0d0887"
             ],
             [
              0.1111111111111111,
              "#46039f"
             ],
             [
              0.2222222222222222,
              "#7201a8"
             ],
             [
              0.3333333333333333,
              "#9c179e"
             ],
             [
              0.4444444444444444,
              "#bd3786"
             ],
             [
              0.5555555555555556,
              "#d8576b"
             ],
             [
              0.6666666666666666,
              "#ed7953"
             ],
             [
              0.7777777777777778,
              "#fb9f3a"
             ],
             [
              0.8888888888888888,
              "#fdca26"
             ],
             [
              1,
              "#f0f921"
             ]
            ],
            "type": "heatmapgl"
           }
          ],
          "histogram": [
           {
            "marker": {
             "pattern": {
              "fillmode": "overlay",
              "size": 10,
              "solidity": 0.2
             }
            },
            "type": "histogram"
           }
          ],
          "histogram2d": [
           {
            "colorbar": {
             "outlinewidth": 0,
             "ticks": ""
            },
            "colorscale": [
             [
              0,
              "#0d0887"
             ],
             [
              0.1111111111111111,
              "#46039f"
             ],
             [
              0.2222222222222222,
              "#7201a8"
             ],
             [
              0.3333333333333333,
              "#9c179e"
             ],
             [
              0.4444444444444444,
              "#bd3786"
             ],
             [
              0.5555555555555556,
              "#d8576b"
             ],
             [
              0.6666666666666666,
              "#ed7953"
             ],
             [
              0.7777777777777778,
              "#fb9f3a"
             ],
             [
              0.8888888888888888,
              "#fdca26"
             ],
             [
              1,
              "#f0f921"
             ]
            ],
            "type": "histogram2d"
           }
          ],
          "histogram2dcontour": [
           {
            "colorbar": {
             "outlinewidth": 0,
             "ticks": ""
            },
            "colorscale": [
             [
              0,
              "#0d0887"
             ],
             [
              0.1111111111111111,
              "#46039f"
             ],
             [
              0.2222222222222222,
              "#7201a8"
             ],
             [
              0.3333333333333333,
              "#9c179e"
             ],
             [
              0.4444444444444444,
              "#bd3786"
             ],
             [
              0.5555555555555556,
              "#d8576b"
             ],
             [
              0.6666666666666666,
              "#ed7953"
             ],
             [
              0.7777777777777778,
              "#fb9f3a"
             ],
             [
              0.8888888888888888,
              "#fdca26"
             ],
             [
              1,
              "#f0f921"
             ]
            ],
            "type": "histogram2dcontour"
           }
          ],
          "mesh3d": [
           {
            "colorbar": {
             "outlinewidth": 0,
             "ticks": ""
            },
            "type": "mesh3d"
           }
          ],
          "parcoords": [
           {
            "line": {
             "colorbar": {
              "outlinewidth": 0,
              "ticks": ""
             }
            },
            "type": "parcoords"
           }
          ],
          "pie": [
           {
            "automargin": true,
            "type": "pie"
           }
          ],
          "scatter": [
           {
            "fillpattern": {
             "fillmode": "overlay",
             "size": 10,
             "solidity": 0.2
            },
            "type": "scatter"
           }
          ],
          "scatter3d": [
           {
            "line": {
             "colorbar": {
              "outlinewidth": 0,
              "ticks": ""
             }
            },
            "marker": {
             "colorbar": {
              "outlinewidth": 0,
              "ticks": ""
             }
            },
            "type": "scatter3d"
           }
          ],
          "scattercarpet": [
           {
            "marker": {
             "colorbar": {
              "outlinewidth": 0,
              "ticks": ""
             }
            },
            "type": "scattercarpet"
           }
          ],
          "scattergeo": [
           {
            "marker": {
             "colorbar": {
              "outlinewidth": 0,
              "ticks": ""
             }
            },
            "type": "scattergeo"
           }
          ],
          "scattergl": [
           {
            "marker": {
             "colorbar": {
              "outlinewidth": 0,
              "ticks": ""
             }
            },
            "type": "scattergl"
           }
          ],
          "scattermapbox": [
           {
            "marker": {
             "colorbar": {
              "outlinewidth": 0,
              "ticks": ""
             }
            },
            "type": "scattermapbox"
           }
          ],
          "scatterpolar": [
           {
            "marker": {
             "colorbar": {
              "outlinewidth": 0,
              "ticks": ""
             }
            },
            "type": "scatterpolar"
           }
          ],
          "scatterpolargl": [
           {
            "marker": {
             "colorbar": {
              "outlinewidth": 0,
              "ticks": ""
             }
            },
            "type": "scatterpolargl"
           }
          ],
          "scatterternary": [
           {
            "marker": {
             "colorbar": {
              "outlinewidth": 0,
              "ticks": ""
             }
            },
            "type": "scatterternary"
           }
          ],
          "surface": [
           {
            "colorbar": {
             "outlinewidth": 0,
             "ticks": ""
            },
            "colorscale": [
             [
              0,
              "#0d0887"
             ],
             [
              0.1111111111111111,
              "#46039f"
             ],
             [
              0.2222222222222222,
              "#7201a8"
             ],
             [
              0.3333333333333333,
              "#9c179e"
             ],
             [
              0.4444444444444444,
              "#bd3786"
             ],
             [
              0.5555555555555556,
              "#d8576b"
             ],
             [
              0.6666666666666666,
              "#ed7953"
             ],
             [
              0.7777777777777778,
              "#fb9f3a"
             ],
             [
              0.8888888888888888,
              "#fdca26"
             ],
             [
              1,
              "#f0f921"
             ]
            ],
            "type": "surface"
           }
          ],
          "table": [
           {
            "cells": {
             "fill": {
              "color": "#EBF0F8"
             },
             "line": {
              "color": "white"
             }
            },
            "header": {
             "fill": {
              "color": "#C8D4E3"
             },
             "line": {
              "color": "white"
             }
            },
            "type": "table"
           }
          ]
         },
         "layout": {
          "annotationdefaults": {
           "arrowcolor": "#2a3f5f",
           "arrowhead": 0,
           "arrowwidth": 1
          },
          "autotypenumbers": "strict",
          "coloraxis": {
           "colorbar": {
            "outlinewidth": 0,
            "ticks": ""
           }
          },
          "colorscale": {
           "diverging": [
            [
             0,
             "#8e0152"
            ],
            [
             0.1,
             "#c51b7d"
            ],
            [
             0.2,
             "#de77ae"
            ],
            [
             0.3,
             "#f1b6da"
            ],
            [
             0.4,
             "#fde0ef"
            ],
            [
             0.5,
             "#f7f7f7"
            ],
            [
             0.6,
             "#e6f5d0"
            ],
            [
             0.7,
             "#b8e186"
            ],
            [
             0.8,
             "#7fbc41"
            ],
            [
             0.9,
             "#4d9221"
            ],
            [
             1,
             "#276419"
            ]
           ],
           "sequential": [
            [
             0,
             "#0d0887"
            ],
            [
             0.1111111111111111,
             "#46039f"
            ],
            [
             0.2222222222222222,
             "#7201a8"
            ],
            [
             0.3333333333333333,
             "#9c179e"
            ],
            [
             0.4444444444444444,
             "#bd3786"
            ],
            [
             0.5555555555555556,
             "#d8576b"
            ],
            [
             0.6666666666666666,
             "#ed7953"
            ],
            [
             0.7777777777777778,
             "#fb9f3a"
            ],
            [
             0.8888888888888888,
             "#fdca26"
            ],
            [
             1,
             "#f0f921"
            ]
           ],
           "sequentialminus": [
            [
             0,
             "#0d0887"
            ],
            [
             0.1111111111111111,
             "#46039f"
            ],
            [
             0.2222222222222222,
             "#7201a8"
            ],
            [
             0.3333333333333333,
             "#9c179e"
            ],
            [
             0.4444444444444444,
             "#bd3786"
            ],
            [
             0.5555555555555556,
             "#d8576b"
            ],
            [
             0.6666666666666666,
             "#ed7953"
            ],
            [
             0.7777777777777778,
             "#fb9f3a"
            ],
            [
             0.8888888888888888,
             "#fdca26"
            ],
            [
             1,
             "#f0f921"
            ]
           ]
          },
          "colorway": [
           "#636efa",
           "#EF553B",
           "#00cc96",
           "#ab63fa",
           "#FFA15A",
           "#19d3f3",
           "#FF6692",
           "#B6E880",
           "#FF97FF",
           "#FECB52"
          ],
          "font": {
           "color": "#2a3f5f"
          },
          "geo": {
           "bgcolor": "white",
           "lakecolor": "white",
           "landcolor": "#E5ECF6",
           "showlakes": true,
           "showland": true,
           "subunitcolor": "white"
          },
          "hoverlabel": {
           "align": "left"
          },
          "hovermode": "closest",
          "mapbox": {
           "style": "light"
          },
          "paper_bgcolor": "white",
          "plot_bgcolor": "#E5ECF6",
          "polar": {
           "angularaxis": {
            "gridcolor": "white",
            "linecolor": "white",
            "ticks": ""
           },
           "bgcolor": "#E5ECF6",
           "radialaxis": {
            "gridcolor": "white",
            "linecolor": "white",
            "ticks": ""
           }
          },
          "scene": {
           "xaxis": {
            "backgroundcolor": "#E5ECF6",
            "gridcolor": "white",
            "gridwidth": 2,
            "linecolor": "white",
            "showbackground": true,
            "ticks": "",
            "zerolinecolor": "white"
           },
           "yaxis": {
            "backgroundcolor": "#E5ECF6",
            "gridcolor": "white",
            "gridwidth": 2,
            "linecolor": "white",
            "showbackground": true,
            "ticks": "",
            "zerolinecolor": "white"
           },
           "zaxis": {
            "backgroundcolor": "#E5ECF6",
            "gridcolor": "white",
            "gridwidth": 2,
            "linecolor": "white",
            "showbackground": true,
            "ticks": "",
            "zerolinecolor": "white"
           }
          },
          "shapedefaults": {
           "line": {
            "color": "#2a3f5f"
           }
          },
          "ternary": {
           "aaxis": {
            "gridcolor": "white",
            "linecolor": "white",
            "ticks": ""
           },
           "baxis": {
            "gridcolor": "white",
            "linecolor": "white",
            "ticks": ""
           },
           "bgcolor": "#E5ECF6",
           "caxis": {
            "gridcolor": "white",
            "linecolor": "white",
            "ticks": ""
           }
          },
          "title": {
           "x": 0.05
          },
          "xaxis": {
           "automargin": true,
           "gridcolor": "white",
           "linecolor": "white",
           "ticks": "",
           "title": {
            "standoff": 15
           },
           "zerolinecolor": "white",
           "zerolinewidth": 2
          },
          "yaxis": {
           "automargin": true,
           "gridcolor": "white",
           "linecolor": "white",
           "ticks": "",
           "title": {
            "standoff": 15
           },
           "zerolinecolor": "white",
           "zerolinewidth": 2
          }
         }
        },
        "xaxis": {
         "anchor": "y",
         "domain": [
          0,
          1
         ],
         "title": {
          "text": "subtype"
         }
        },
        "yaxis": {
         "anchor": "x",
         "domain": [
          0,
          1
         ],
         "title": {
          "text": "Count"
         }
        }
       }
      }
     },
     "metadata": {},
     "output_type": "display_data"
    }
   ],
   "source": [
    "# use the plotly library to create a bar chart of the subtype column\n",
    "# Count the occurrences of each subtype\n",
    "subtype_counts = df['subtype'].value_counts()\n",
    "\n",
    "# Create the bar chart\n",
    "fig = px.bar(subtype_counts, x=subtype_counts.index, y=subtype_counts.values, labels={'x':'Subtype', 'y':'Count'})\n",
    "\n",
    "# Show the plot\n",
    "fig.show()"
   ]
  },
  {
   "cell_type": "code",
   "execution_count": 13,
   "metadata": {},
   "outputs": [
    {
     "data": {
      "text/plain": [
       "35222"
      ]
     },
     "execution_count": 13,
     "metadata": {},
     "output_type": "execute_result"
    }
   ],
   "source": [
    "# get all the rows where epc is not null\n",
    "epc_not_null = df[df['epc'].notnull()]\n",
    "epc_not_null_count = epc_not_null['epc'].count()\n",
    "epc_not_null_count\n"
   ]
  },
  {
   "cell_type": "code",
   "execution_count": null,
   "metadata": {},
   "outputs": [],
   "source": []
  }
 ],
 "metadata": {
  "kernelspec": {
   "display_name": "Python 3",
   "language": "python",
   "name": "python3"
  },
  "language_info": {
   "codemirror_mode": {
    "name": "ipython",
    "version": 3
   },
   "file_extension": ".py",
   "mimetype": "text/x-python",
   "name": "python",
   "nbconvert_exporter": "python",
   "pygments_lexer": "ipython3",
   "version": "3.12.1"
  }
 },
 "nbformat": 4,
 "nbformat_minor": 2
}
