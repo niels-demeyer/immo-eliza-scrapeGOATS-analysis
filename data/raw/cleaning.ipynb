{
 "cells": [
  {
   "cell_type": "markdown",
   "metadata": {},
   "source": [
    "# Cleaning"
   ]
  },
  {
   "cell_type": "code",
   "execution_count": 1,
   "metadata": {},
   "outputs": [],
   "source": [
    "# Importing\n",
    "\n",
    "import pandas as pd\n",
    "import numpy as np\n",
    "\n",
    "path = \"houses_moreinfo.csv\"\n",
    "\n",
    "df = pd.read_csv(path)\n"
   ]
  },
  {
   "cell_type": "code",
   "execution_count": 2,
   "metadata": {},
   "outputs": [
    {
     "data": {
      "text/html": [
       "<div>\n",
       "<style scoped>\n",
       "    .dataframe tbody tr th:only-of-type {\n",
       "        vertical-align: middle;\n",
       "    }\n",
       "\n",
       "    .dataframe tbody tr th {\n",
       "        vertical-align: top;\n",
       "    }\n",
       "\n",
       "    .dataframe thead th {\n",
       "        text-align: right;\n",
       "    }\n",
       "</style>\n",
       "<table border=\"1\" class=\"dataframe\">\n",
       "  <thead>\n",
       "    <tr style=\"text-align: right;\">\n",
       "      <th></th>\n",
       "      <th>id</th>\n",
       "      <th>city</th>\n",
       "      <th>postal_code</th>\n",
       "      <th>district</th>\n",
       "      <th>province</th>\n",
       "      <th>price</th>\n",
       "      <th>type_sale</th>\n",
       "      <th>subtype</th>\n",
       "      <th>sale_type</th>\n",
       "      <th>state_construction</th>\n",
       "      <th>...</th>\n",
       "      <th>swimmingpool</th>\n",
       "      <th>has_balcony</th>\n",
       "      <th>has_terrace</th>\n",
       "      <th>has_attic</th>\n",
       "      <th>has_basement</th>\n",
       "      <th>construction_year</th>\n",
       "      <th>epc</th>\n",
       "      <th>heating</th>\n",
       "      <th>life_annuity</th>\n",
       "      <th>area_total</th>\n",
       "    </tr>\n",
       "  </thead>\n",
       "  <tbody>\n",
       "    <tr>\n",
       "      <th>0</th>\n",
       "      <td>1882546</td>\n",
       "      <td>Wenduine</td>\n",
       "      <td>8420</td>\n",
       "      <td>Oostend</td>\n",
       "      <td>West Flanders</td>\n",
       "      <td>163000.0</td>\n",
       "      <td>HOUSE</td>\n",
       "      <td>CHALET</td>\n",
       "      <td>FOR_SALE</td>\n",
       "      <td>AS_NEW</td>\n",
       "      <td>...</td>\n",
       "      <td>0</td>\n",
       "      <td>NaN</td>\n",
       "      <td>NaN</td>\n",
       "      <td>NaN</td>\n",
       "      <td>NaN</td>\n",
       "      <td>2023.0</td>\n",
       "      <td>NaN</td>\n",
       "      <td>GAS</td>\n",
       "      <td>0</td>\n",
       "      <td>155.0</td>\n",
       "    </tr>\n",
       "    <tr>\n",
       "      <th>1</th>\n",
       "      <td>2784938</td>\n",
       "      <td>Heist-aan-Zee</td>\n",
       "      <td>8301</td>\n",
       "      <td>Brugge</td>\n",
       "      <td>West Flanders</td>\n",
       "      <td>108000.0</td>\n",
       "      <td>HOUSE</td>\n",
       "      <td>BUNGALOW</td>\n",
       "      <td>FOR_SALE</td>\n",
       "      <td>AS_NEW</td>\n",
       "      <td>...</td>\n",
       "      <td>0</td>\n",
       "      <td>NaN</td>\n",
       "      <td>NaN</td>\n",
       "      <td>NaN</td>\n",
       "      <td>NaN</td>\n",
       "      <td>2023.0</td>\n",
       "      <td>NaN</td>\n",
       "      <td>GAS</td>\n",
       "      <td>0</td>\n",
       "      <td>170.0</td>\n",
       "    </tr>\n",
       "    <tr>\n",
       "      <th>2</th>\n",
       "      <td>4679861</td>\n",
       "      <td>Oostende</td>\n",
       "      <td>8400</td>\n",
       "      <td>Oostend</td>\n",
       "      <td>West Flanders</td>\n",
       "      <td>330000.0</td>\n",
       "      <td>HOUSE</td>\n",
       "      <td>HOUSE</td>\n",
       "      <td>FOR_SALE</td>\n",
       "      <td>GOOD</td>\n",
       "      <td>...</td>\n",
       "      <td>0</td>\n",
       "      <td>NaN</td>\n",
       "      <td>1.0</td>\n",
       "      <td>NaN</td>\n",
       "      <td>NaN</td>\n",
       "      <td>NaN</td>\n",
       "      <td>B</td>\n",
       "      <td>NaN</td>\n",
       "      <td>0</td>\n",
       "      <td>65.0</td>\n",
       "    </tr>\n",
       "    <tr>\n",
       "      <th>3</th>\n",
       "      <td>5650273</td>\n",
       "      <td>Dilsen-Stokkem</td>\n",
       "      <td>3650</td>\n",
       "      <td>Maaseik</td>\n",
       "      <td>Limburg</td>\n",
       "      <td>535000.0</td>\n",
       "      <td>HOUSE</td>\n",
       "      <td>APARTMENT_BLOCK</td>\n",
       "      <td>FOR_SALE</td>\n",
       "      <td>NaN</td>\n",
       "      <td>...</td>\n",
       "      <td>0</td>\n",
       "      <td>NaN</td>\n",
       "      <td>NaN</td>\n",
       "      <td>NaN</td>\n",
       "      <td>NaN</td>\n",
       "      <td>1988.0</td>\n",
       "      <td>B</td>\n",
       "      <td>GAS</td>\n",
       "      <td>0</td>\n",
       "      <td>0.0</td>\n",
       "    </tr>\n",
       "    <tr>\n",
       "      <th>4</th>\n",
       "      <td>6349237</td>\n",
       "      <td>Corswarem</td>\n",
       "      <td>4257</td>\n",
       "      <td>Waremme</td>\n",
       "      <td>Liège</td>\n",
       "      <td>NaN</td>\n",
       "      <td>HOUSE_GROUP</td>\n",
       "      <td>HOUSE_GROUP</td>\n",
       "      <td>FOR_SALE</td>\n",
       "      <td>NaN</td>\n",
       "      <td>...</td>\n",
       "      <td>0</td>\n",
       "      <td>NaN</td>\n",
       "      <td>NaN</td>\n",
       "      <td>NaN</td>\n",
       "      <td>NaN</td>\n",
       "      <td>NaN</td>\n",
       "      <td>NaN</td>\n",
       "      <td>NaN</td>\n",
       "      <td>0</td>\n",
       "      <td>NaN</td>\n",
       "    </tr>\n",
       "  </tbody>\n",
       "</table>\n",
       "<p>5 rows × 33 columns</p>\n",
       "</div>"
      ],
      "text/plain": [
       "        id            city  postal_code district       province     price  \\\n",
       "0  1882546        Wenduine         8420  Oostend  West Flanders  163000.0   \n",
       "1  2784938   Heist-aan-Zee         8301   Brugge  West Flanders  108000.0   \n",
       "2  4679861        Oostende         8400  Oostend  West Flanders  330000.0   \n",
       "3  5650273  Dilsen-Stokkem         3650  Maaseik        Limburg  535000.0   \n",
       "4  6349237       Corswarem         4257  Waremme          Liège       NaN   \n",
       "\n",
       "     type_sale          subtype sale_type state_construction  ...  \\\n",
       "0        HOUSE           CHALET  FOR_SALE             AS_NEW  ...   \n",
       "1        HOUSE         BUNGALOW  FOR_SALE             AS_NEW  ...   \n",
       "2        HOUSE            HOUSE  FOR_SALE               GOOD  ...   \n",
       "3        HOUSE  APARTMENT_BLOCK  FOR_SALE                NaN  ...   \n",
       "4  HOUSE_GROUP      HOUSE_GROUP  FOR_SALE                NaN  ...   \n",
       "\n",
       "   swimmingpool  has_balcony  has_terrace  has_attic  has_basement  \\\n",
       "0             0          NaN          NaN        NaN           NaN   \n",
       "1             0          NaN          NaN        NaN           NaN   \n",
       "2             0          NaN          1.0        NaN           NaN   \n",
       "3             0          NaN          NaN        NaN           NaN   \n",
       "4             0          NaN          NaN        NaN           NaN   \n",
       "\n",
       "   construction_year  epc  heating  life_annuity  area_total  \n",
       "0             2023.0  NaN      GAS             0       155.0  \n",
       "1             2023.0  NaN      GAS             0       170.0  \n",
       "2                NaN    B      NaN             0        65.0  \n",
       "3             1988.0    B      GAS             0         0.0  \n",
       "4                NaN  NaN      NaN             0         NaN  \n",
       "\n",
       "[5 rows x 33 columns]"
      ]
     },
     "execution_count": 2,
     "metadata": {},
     "output_type": "execute_result"
    }
   ],
   "source": [
    "df.head()"
   ]
  },
  {
   "cell_type": "code",
   "execution_count": 6,
   "metadata": {},
   "outputs": [],
   "source": [
    "# Change name of places to lower\n",
    "def format_name(x):\n",
    "    return x.lower()\n",
    "\n",
    "df[\"city\"] = df.city.apply(format_name)\n",
    "df[\"district\"] = df.district.apply(format_name)\n",
    "df[\"province\"] = df.province.apply(format_name)\n",
    "\n",
    "# Substitute 0 for Nan\n",
    "df.replace(0, np.nan, inplace=True)\n",
    "\n",
    "\n"
   ]
  },
  {
   "cell_type": "code",
   "execution_count": 10,
   "metadata": {},
   "outputs": [
    {
     "data": {
      "text/plain": [
       "(44908, 33)"
      ]
     },
     "execution_count": 10,
     "metadata": {},
     "output_type": "execute_result"
    }
   ],
   "source": [
    "# Drop rows with life_annuity == 1\n",
    "life_annuity = df.query(\"life_annuity == 1\").index\n",
    "\n",
    "df.drop(life_annuity, inplace=True)\n",
    "\n",
    "df.shape"
   ]
  },
  {
   "cell_type": "code",
   "execution_count": 15,
   "metadata": {},
   "outputs": [],
   "source": [
    "# Drop where price is NaN\n",
    "df.dropna(subset=['price'], inplace=True)"
   ]
  },
  {
   "cell_type": "code",
   "execution_count": 16,
   "metadata": {},
   "outputs": [],
   "source": [
    "# Drop useless columns\n",
    "df.drop(['life_annuity', 'has_balcony', \"sale_type\", \"type_sale\" ], axis=1, inplace=True)"
   ]
  },
  {
   "cell_type": "code",
   "execution_count": 17,
   "metadata": {},
   "outputs": [
    {
     "data": {
      "text/plain": [
       "(43522, 29)"
      ]
     },
     "execution_count": 17,
     "metadata": {},
     "output_type": "execute_result"
    }
   ],
   "source": [
    "df.shape"
   ]
  },
  {
   "cell_type": "markdown",
   "metadata": {},
   "source": [
    "# Start exploring"
   ]
  },
  {
   "cell_type": "code",
   "execution_count": 18,
   "metadata": {},
   "outputs": [
    {
     "data": {
      "text/plain": [
       "(43522, 29)"
      ]
     },
     "execution_count": 18,
     "metadata": {},
     "output_type": "execute_result"
    }
   ],
   "source": [
    "df.shape"
   ]
  },
  {
   "cell_type": "code",
   "execution_count": 19,
   "metadata": {},
   "outputs": [
    {
     "data": {
      "text/plain": [
       "id                     0.000000\n",
       "city                   0.000000\n",
       "postal_code            0.000000\n",
       "district               0.000000\n",
       "province               0.000000\n",
       "price                  0.000000\n",
       "subtype                0.000000\n",
       "state_construction    27.976655\n",
       "living_area           14.599513\n",
       "terrace_area          75.318230\n",
       "garden_area           72.462203\n",
       "rooms                 73.181380\n",
       "bedrooms               2.525160\n",
       "bathrooms             13.914802\n",
       "livingroom_surface    61.118515\n",
       "kitchen_surface       64.493819\n",
       "facades               20.863012\n",
       "has_garden            66.456045\n",
       "kitchen               43.888149\n",
       "furnished             98.750057\n",
       "fireplace             80.979734\n",
       "swimmingpool          97.063554\n",
       "has_terrace           51.155737\n",
       "has_attic             72.239327\n",
       "has_basement          60.734801\n",
       "construction_year     44.811819\n",
       "epc                   19.645237\n",
       "heating               32.532972\n",
       "area_total            11.823905\n",
       "dtype: float64"
      ]
     },
     "execution_count": 19,
     "metadata": {},
     "output_type": "execute_result"
    }
   ],
   "source": [
    "# Missing values\n",
    "percent_missing = df.isnull().sum() * 100 / len(df)\n",
    "percent_missing"
   ]
  },
  {
   "cell_type": "code",
   "execution_count": 30,
   "metadata": {},
   "outputs": [
    {
     "name": "stdout",
     "output_type": "stream",
     "text": [
      "276000.0\n",
      "739.0\n"
     ]
    }
   ],
   "source": [
    "def IQR (column):\n",
    "    quartiles = df[column].quantile([0.25, 0.75])\n",
    "    iqr = quartiles[0.75] - quartiles[0.25]\n",
    "    return print(iqr)\n",
    "\n",
    "price_iqr = IQR(\"price\")\n",
    "area_iqr = IQR(\"area_total\")\n",
    "\n"
   ]
  }
 ],
 "metadata": {
  "kernelspec": {
   "display_name": "Python 3",
   "language": "python",
   "name": "python3"
  },
  "language_info": {
   "codemirror_mode": {
    "name": "ipython",
    "version": 3
   },
   "file_extension": ".py",
   "mimetype": "text/x-python",
   "name": "python",
   "nbconvert_exporter": "python",
   "pygments_lexer": "ipython3",
   "version": "3.12.2"
  }
 },
 "nbformat": 4,
 "nbformat_minor": 2
}
